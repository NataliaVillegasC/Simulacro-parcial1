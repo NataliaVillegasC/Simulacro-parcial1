{
 "cells": [
  {
   "cell_type": "markdown",
   "metadata": {},
   "source": [
    "# Simulacro Parcial 1"
   ]
  },
  {
   "cell_type": "markdown",
   "metadata": {},
   "source": [
    "Natalia Villegas Calderon - 202113370"
   ]
  },
  {
   "cell_type": "markdown",
   "metadata": {},
   "source": [
    "## Caso Inicial Clínica de los Alpes\n",
    "La Clínica de los Alpes es una IPS colombiana con varios años de operación en la capital. Esta institución posee varias unidades de cuidado especializado para pacientes con diferentes tipos de patologías y necesidades de atención.\n",
    "\n",
    "Sin embargo, al igual que muchas entidades de las mismas características, uno de los mayores problemas que enfrenta la Clínica es el de los reingresos médicos. Un reingreso médico ocurre cuando un paciente que se ha dado de alta debe ser nuevamente admitido por complicaciones relacionadas con su ingreso original en plazos de 30 días, 90 días o hasta un año, de acuerdo con las definiciones de la OMS.\n",
    "\n",
    "Los reingresos son problemáticos porque pueden ser un signo de complicaciones o empeoramiento de la condición médica del paciente, lo que pone en riesgo su salud y bienestar. Esto puede generar frustración y ansiedad por parte del paciente al igual que aumentar el riesgo de contraer infecciones dentro de la clínica. De igual manera, aumentan la carga financiera sobre la clínica, añadiendo costos acumulativos de cuidado, bloqueando el uso eficiente de recursos para atender a otros pacientes, generando sobrecostos para las facturas médicas que deben pagar los pacientes, causando impactos físicos y emocionales; y en últimas ocasionando pérdida de confianza en la institución de salud. \n",
    "\n",
    "Los reingresos son problemáticos porque pueden ser un signo de complicaciones o empeoramiento de la condición médica del paciente, lo que pone en riesgo su salud y bienestar. Esto puede generar frustración y ansiedad por parte del paciente al igual que aumentar el riesgo de contraer infecciones dentro de la clínica. De igual manera, aumentan la carga financiera sobre la clínica, añadiendo costos acumulativos de cuidado, bloqueando el uso eficiente de recursos para atender a otros pacientes, generando sobrecostos para las facturas médicas que deben pagar los pacientes, causando impactos físicos y emocionales; y en últimas ocasionando pérdida de confianza en la institución de salud. \n",
    "\n",
    "Por esta razón la Clínica de los Alpes ha financiado un proyecto de analítica basada en aprendizaje automático con el propósito de caracterizar los pacientes con reingresos, en particular los que han sido hospitalizados por diabetes. \n",
    "\n",
    "Considerando el caso asignado, los datos y el diccionario suministrado, proponga un proyecto con aprendizaje automático para alcanzar uno de los objetivos planteados por la empresa. Resuelva las siguientes preguntas e incluya sus respuestas y análisis en el cuaderno a entregar.\n"
   ]
  },
  {
   "cell_type": "markdown",
   "metadata": {},
   "source": [
    "“Al entregar la solución de este parcial, yo, Natalia Villegas con código 202113370 me comprometo a no conversar durante el desarrollo de este examen con ninguna persona que no sea el profesor del curso, sobre aspectos relacionados con el parcial; tampoco utilizaré algún medio de comunicación por voz, texto o intercambio de archivos, para consultar o compartir con otros, información sobre el tema del parcial. Ni usaré alguna IA para resolver las preguntas del parcial. Soy consciente y acepto las consecuencias que acarreará para mi desempeño académico cometer fraude en este parcial”."
   ]
  },
  {
   "cell_type": "markdown",
   "metadata": {},
   "source": [
    "## Respuestas a las preguntas del parcial\n"
   ]
  },
  {
   "cell_type": "markdown",
   "metadata": {},
   "source": [
    "### PREGUNTA 1: \n",
    "El objetivo de negocio de la Clínica de los Alpes es caracterizar a los pacientes con reingresos hospitalarios, particularmente aquellos con diabetes, con el fin de reducir la tasa de reingresos, optimizar los recursos de la institución y mejorar la calidad de atención. El aprendizaje automático es una opción adecuada porque permite analizar grandes volúmenes de datos de pacientes, identificar patrones ocultos en la información y segmentarlos en grupos con características comunes. Con este análisis, la clínica podrá anticipar el riesgo de reingreso y personalizar estrategias de atención para cada paciente, mejorando su experiencia y reduciendo costos asociados a hospitalizaciones repetitivas. Adicionalmente, el modelo puede ayudar a las decisiones clínicas y administrativas de la institución, permitiendo una gestión más eficiente de los recursos y una atención más oportuna y efectiva para los pacientes.\n",
    "\n",
    "### PREGUNTA 2: \n",
    "Para abordar el problema de los reingresos hospitalarios en pacientes con diabetes, se empleará un enfoque de aprendizaje no supervisado, con técnicas de agrupacióN. En particular, se utilizará el algoritmo K-Means, ya que permite segmentar a los pacientes en grupos homogéneos según sus características clínicas e historial de hospitalización. El uso de K-Means facilitará la identificación de perfiles de pacientes con alto riesgo de reingreso, lo que permitirá a la clínica diseñar estrategias de intervención específicas para cada grupo. Además, este método es eficiente y fácil de interpretar, lo que lo hace ideal para el análisis exploratorio en la toma de decisiones médicas."
   ]
  },
  {
   "cell_type": "markdown",
   "metadata": {},
   "source": [
    "# 0. Carga de datos"
   ]
  },
  {
   "cell_type": "code",
   "execution_count": 1,
   "metadata": {},
   "outputs": [],
   "source": [
    "import numpy as np\n",
    "import pandas as pd\n",
    "\n",
    "import matplotlib.pyplot as plt\n",
    "import seaborn as sns\n",
    "\n",
    "from sklearn.decomposition import PCA\n",
    "from sklearn.preprocessing import StandardScaler\n",
    "from sklearn.cluster import KMeans\n",
    "from sklearn.metrics import silhouette_samples, silhouette_score\n",
    "from sklearn.preprocessing import MinMaxScaler"
   ]
  },
  {
   "cell_type": "code",
   "execution_count": 9,
   "metadata": {},
   "outputs": [
    {
     "data": {
      "text/html": [
       "<div>\n",
       "<style scoped>\n",
       "    .dataframe tbody tr th:only-of-type {\n",
       "        vertical-align: middle;\n",
       "    }\n",
       "\n",
       "    .dataframe tbody tr th {\n",
       "        vertical-align: top;\n",
       "    }\n",
       "\n",
       "    .dataframe thead th {\n",
       "        text-align: right;\n",
       "    }\n",
       "</style>\n",
       "<table border=\"1\" class=\"dataframe\">\n",
       "  <thead>\n",
       "    <tr style=\"text-align: right;\">\n",
       "      <th></th>\n",
       "      <th>0</th>\n",
       "    </tr>\n",
       "  </thead>\n",
       "  <tbody>\n",
       "    <tr>\n",
       "      <th>0</th>\n",
       "      <td>race,num_lab_procedures,num_medications,age,ge...</td>\n",
       "    </tr>\n",
       "    <tr>\n",
       "      <th>1</th>\n",
       "      <td>Caucasian,88,32,5,F,9,9,0,1,1,1,Yes,Yes,Yes,0,...</td>\n",
       "    </tr>\n",
       "    <tr>\n",
       "      <th>2</th>\n",
       "      <td>Caucasian,43,19,6,F,4,8,1,1,2,1,Yes,Yes,Yes,0,...</td>\n",
       "    </tr>\n",
       "    <tr>\n",
       "      <th>3</th>\n",
       "      <td>Caucasian,24,8,5,M,4,5,0,17,2,1,No,No,No,0,0,No</td>\n",
       "    </tr>\n",
       "    <tr>\n",
       "      <th>4</th>\n",
       "      <td>Caucasian,4,8,6,F,1,8,0,7,1,1,No,No,No,0,0,Yes</td>\n",
       "    </tr>\n",
       "  </tbody>\n",
       "</table>\n",
       "</div>"
      ],
      "text/plain": [
       "                                                   0\n",
       "0  race,num_lab_procedures,num_medications,age,ge...\n",
       "1  Caucasian,88,32,5,F,9,9,0,1,1,1,Yes,Yes,Yes,0,...\n",
       "2  Caucasian,43,19,6,F,4,8,1,1,2,1,Yes,Yes,Yes,0,...\n",
       "3    Caucasian,24,8,5,M,4,5,0,17,2,1,No,No,No,0,0,No\n",
       "4     Caucasian,4,8,6,F,1,8,0,7,1,1,No,No,No,0,0,Yes"
      ]
     },
     "execution_count": 9,
     "metadata": {},
     "output_type": "execute_result"
    }
   ],
   "source": [
    "df = pd.read_excel(\"diabetic_data.xlsx\", header=None)\n",
    "df.head()"
   ]
  },
  {
   "cell_type": "code",
   "execution_count": 11,
   "metadata": {},
   "outputs": [
    {
     "data": {
      "text/plain": [
       "['race',\n",
       " 'num_lab_procedures',\n",
       " 'num_medications',\n",
       " 'age',\n",
       " 'gender',\n",
       " 'time_in_hospital',\n",
       " 'number_diagnoses',\n",
       " 'num_procedures',\n",
       " 'admission_source_id',\n",
       " 'admission_type_id',\n",
       " 'discharge_disposition_id',\n",
       " 'insulin',\n",
       " 'diabetesMed',\n",
       " 'change',\n",
       " 'number_inpatient',\n",
       " 'number_emergency',\n",
       " 'readmitted']"
      ]
     },
     "execution_count": 11,
     "metadata": {},
     "output_type": "execute_result"
    }
   ],
   "source": [
    "col = df.iloc[0, 0].split(',')\n",
    "col"
   ]
  },
  {
   "cell_type": "markdown",
   "metadata": {},
   "source": [
    "Se realiza el proceso necesario para construir adecuadamente el DF, en este se elimina la primera fila que eran los titulos, se separan las filas por coma y se le agregan las columnas correspondientes."
   ]
  },
  {
   "cell_type": "code",
   "execution_count": null,
   "metadata": {},
   "outputs": [
    {
     "data": {
      "text/html": [
       "<div>\n",
       "<style scoped>\n",
       "    .dataframe tbody tr th:only-of-type {\n",
       "        vertical-align: middle;\n",
       "    }\n",
       "\n",
       "    .dataframe tbody tr th {\n",
       "        vertical-align: top;\n",
       "    }\n",
       "\n",
       "    .dataframe thead th {\n",
       "        text-align: right;\n",
       "    }\n",
       "</style>\n",
       "<table border=\"1\" class=\"dataframe\">\n",
       "  <thead>\n",
       "    <tr style=\"text-align: right;\">\n",
       "      <th></th>\n",
       "      <th>race</th>\n",
       "      <th>num_lab_procedures</th>\n",
       "      <th>num_medications</th>\n",
       "      <th>age</th>\n",
       "      <th>gender</th>\n",
       "      <th>time_in_hospital</th>\n",
       "      <th>number_diagnoses</th>\n",
       "      <th>num_procedures</th>\n",
       "      <th>admission_source_id</th>\n",
       "      <th>admission_type_id</th>\n",
       "      <th>discharge_disposition_id</th>\n",
       "      <th>insulin</th>\n",
       "      <th>diabetesMed</th>\n",
       "      <th>change</th>\n",
       "      <th>number_inpatient</th>\n",
       "      <th>number_emergency</th>\n",
       "      <th>readmitted</th>\n",
       "    </tr>\n",
       "  </thead>\n",
       "  <tbody>\n",
       "    <tr>\n",
       "      <th>0</th>\n",
       "      <td>Caucasian</td>\n",
       "      <td>88</td>\n",
       "      <td>32</td>\n",
       "      <td>5</td>\n",
       "      <td>F</td>\n",
       "      <td>9</td>\n",
       "      <td>9</td>\n",
       "      <td>0</td>\n",
       "      <td>1</td>\n",
       "      <td>1</td>\n",
       "      <td>1</td>\n",
       "      <td>Yes</td>\n",
       "      <td>Yes</td>\n",
       "      <td>Yes</td>\n",
       "      <td>0</td>\n",
       "      <td>0</td>\n",
       "      <td>Yes</td>\n",
       "    </tr>\n",
       "    <tr>\n",
       "      <th>1</th>\n",
       "      <td>Caucasian</td>\n",
       "      <td>43</td>\n",
       "      <td>19</td>\n",
       "      <td>6</td>\n",
       "      <td>F</td>\n",
       "      <td>4</td>\n",
       "      <td>8</td>\n",
       "      <td>1</td>\n",
       "      <td>1</td>\n",
       "      <td>2</td>\n",
       "      <td>1</td>\n",
       "      <td>Yes</td>\n",
       "      <td>Yes</td>\n",
       "      <td>Yes</td>\n",
       "      <td>0</td>\n",
       "      <td>0</td>\n",
       "      <td>No</td>\n",
       "    </tr>\n",
       "    <tr>\n",
       "      <th>2</th>\n",
       "      <td>Caucasian</td>\n",
       "      <td>24</td>\n",
       "      <td>8</td>\n",
       "      <td>5</td>\n",
       "      <td>M</td>\n",
       "      <td>4</td>\n",
       "      <td>5</td>\n",
       "      <td>0</td>\n",
       "      <td>17</td>\n",
       "      <td>2</td>\n",
       "      <td>1</td>\n",
       "      <td>No</td>\n",
       "      <td>No</td>\n",
       "      <td>No</td>\n",
       "      <td>0</td>\n",
       "      <td>0</td>\n",
       "      <td>No</td>\n",
       "    </tr>\n",
       "    <tr>\n",
       "      <th>3</th>\n",
       "      <td>Caucasian</td>\n",
       "      <td>4</td>\n",
       "      <td>8</td>\n",
       "      <td>6</td>\n",
       "      <td>F</td>\n",
       "      <td>1</td>\n",
       "      <td>8</td>\n",
       "      <td>0</td>\n",
       "      <td>7</td>\n",
       "      <td>1</td>\n",
       "      <td>1</td>\n",
       "      <td>No</td>\n",
       "      <td>No</td>\n",
       "      <td>No</td>\n",
       "      <td>0</td>\n",
       "      <td>0</td>\n",
       "      <td>Yes</td>\n",
       "    </tr>\n",
       "    <tr>\n",
       "      <th>4</th>\n",
       "      <td>AfricanAmerican</td>\n",
       "      <td>46</td>\n",
       "      <td>16</td>\n",
       "      <td>7</td>\n",
       "      <td>M</td>\n",
       "      <td>4</td>\n",
       "      <td>6</td>\n",
       "      <td>0</td>\n",
       "      <td>7</td>\n",
       "      <td>1</td>\n",
       "      <td>1</td>\n",
       "      <td>No</td>\n",
       "      <td>Yes</td>\n",
       "      <td>Yes</td>\n",
       "      <td>0</td>\n",
       "      <td>0</td>\n",
       "      <td>Yes</td>\n",
       "    </tr>\n",
       "  </tbody>\n",
       "</table>\n",
       "</div>"
      ],
      "text/plain": [
       "              race num_lab_procedures num_medications age gender  \\\n",
       "0        Caucasian                 88              32   5      F   \n",
       "1        Caucasian                 43              19   6      F   \n",
       "2        Caucasian                 24               8   5      M   \n",
       "3        Caucasian                  4               8   6      F   \n",
       "4  AfricanAmerican                 46              16   7      M   \n",
       "\n",
       "  time_in_hospital number_diagnoses num_procedures admission_source_id  \\\n",
       "0                9                9              0                   1   \n",
       "1                4                8              1                   1   \n",
       "2                4                5              0                  17   \n",
       "3                1                8              0                   7   \n",
       "4                4                6              0                   7   \n",
       "\n",
       "  admission_type_id discharge_disposition_id insulin diabetesMed change  \\\n",
       "0                 1                        1     Yes         Yes    Yes   \n",
       "1                 2                        1     Yes         Yes    Yes   \n",
       "2                 2                        1      No          No     No   \n",
       "3                 1                        1      No          No     No   \n",
       "4                 1                        1      No         Yes    Yes   \n",
       "\n",
       "  number_inpatient number_emergency readmitted  \n",
       "0                0                0        Yes  \n",
       "1                0                0         No  \n",
       "2                0                0         No  \n",
       "3                0                0        Yes  \n",
       "4                0                0        Yes  "
      ]
     },
     "execution_count": 12,
     "metadata": {},
     "output_type": "execute_result"
    }
   ],
   "source": [
    "df = df.iloc[1:].reset_index(drop=True) \n",
    "df = df[0].str.split(',', expand=True)\n",
    "df.columns = col\n",
    "df.head()"
   ]
  },
  {
   "cell_type": "markdown",
   "metadata": {},
   "source": [
    "Los datos tienen 2000 registros y 17 columnas"
   ]
  },
  {
   "cell_type": "code",
   "execution_count": 13,
   "metadata": {},
   "outputs": [
    {
     "data": {
      "text/plain": [
       "(2000, 17)"
      ]
     },
     "execution_count": 13,
     "metadata": {},
     "output_type": "execute_result"
    }
   ],
   "source": [
    "df.shape"
   ]
  },
  {
   "cell_type": "markdown",
   "metadata": {},
   "source": [
    "Se observan los datos cargados"
   ]
  },
  {
   "cell_type": "code",
   "execution_count": 15,
   "metadata": {},
   "outputs": [
    {
     "data": {
      "text/plain": [
       "race                        object\n",
       "num_lab_procedures          object\n",
       "num_medications             object\n",
       "age                         object\n",
       "gender                      object\n",
       "time_in_hospital            object\n",
       "number_diagnoses            object\n",
       "num_procedures              object\n",
       "admission_source_id         object\n",
       "admission_type_id           object\n",
       "discharge_disposition_id    object\n",
       "insulin                     object\n",
       "diabetesMed                 object\n",
       "change                      object\n",
       "number_inpatient            object\n",
       "number_emergency            object\n",
       "readmitted                  object\n",
       "dtype: object"
      ]
     },
     "execution_count": 15,
     "metadata": {},
     "output_type": "execute_result"
    }
   ],
   "source": [
    "df.dtypes"
   ]
  },
  {
   "cell_type": "markdown",
   "metadata": {},
   "source": [
    "Se evidencia que las columnas time_in_hospital, num_lab_procedures, num_procedures num_medications, number_outpatient, number_emergency, number_inpatient, number_diagnoses estan siendo reconocidas como objeto, cuando en el diccionario indican que son numero, por lo que es necesario convertirlas a numericas."
   ]
  },
  {
   "cell_type": "code",
   "execution_count": 20,
   "metadata": {},
   "outputs": [],
   "source": [
    "# Lista de variables cat\n",
    "variables_cat= [\n",
    "    \"race\", \"gender\", \"age\", \"admission_type_id\", \n",
    "    \"discharge_disposition_id\", \"admission_source_id\", \n",
    "    \"insulin\", \"change\", \"diabetesMed\"\n",
    "]\n",
    "\n",
    "\n",
    "variables_num = [\n",
    "    \"time_in_hospital\", \"num_lab_procedures\", \"num_procedures\", \n",
    "    \"num_medications\",  \"number_emergency\",\n",
    "    \"number_inpatient\", \"number_diagnoses\"\n",
    "]"
   ]
  },
  {
   "cell_type": "code",
   "execution_count": 22,
   "metadata": {},
   "outputs": [
    {
     "data": {
      "text/plain": [
       "race                        object\n",
       "num_lab_procedures           Int64\n",
       "num_medications              Int64\n",
       "age                         object\n",
       "gender                      object\n",
       "time_in_hospital             Int64\n",
       "number_diagnoses             Int64\n",
       "num_procedures               Int64\n",
       "admission_source_id         object\n",
       "admission_type_id           object\n",
       "discharge_disposition_id    object\n",
       "insulin                     object\n",
       "diabetesMed                 object\n",
       "change                      object\n",
       "number_inpatient             Int64\n",
       "number_emergency             Int64\n",
       "readmitted                  object\n",
       "dtype: object"
      ]
     },
     "execution_count": 22,
     "metadata": {},
     "output_type": "execute_result"
    }
   ],
   "source": [
    "\n",
    "# Convertir las variables \n",
    "df[variables_num] = df[variables_num].apply(pd.to_numeric, errors='coerce').astype('Int64')\n",
    "\n",
    "# Verificar cambios\n",
    "df.dtypes"
   ]
  },
  {
   "cell_type": "markdown",
   "metadata": {},
   "source": [
    "# Entendimiento de datos"
   ]
  },
  {
   "cell_type": "code",
   "execution_count": 23,
   "metadata": {},
   "outputs": [
    {
     "data": {
      "text/plain": [
       "(2000, 17)"
      ]
     },
     "execution_count": 23,
     "metadata": {},
     "output_type": "execute_result"
    }
   ],
   "source": [
    "df.shape"
   ]
  },
  {
   "cell_type": "markdown",
   "metadata": {},
   "source": [
    "### Atributos numericos"
   ]
  },
  {
   "cell_type": "code",
   "execution_count": null,
   "metadata": {},
   "outputs": [
    {
     "data": {
      "text/html": [
       "<div>\n",
       "<style scoped>\n",
       "    .dataframe tbody tr th:only-of-type {\n",
       "        vertical-align: middle;\n",
       "    }\n",
       "\n",
       "    .dataframe tbody tr th {\n",
       "        vertical-align: top;\n",
       "    }\n",
       "\n",
       "    .dataframe thead th {\n",
       "        text-align: right;\n",
       "    }\n",
       "</style>\n",
       "<table border=\"1\" class=\"dataframe\">\n",
       "  <thead>\n",
       "    <tr style=\"text-align: right;\">\n",
       "      <th></th>\n",
       "      <th>num_lab_procedures</th>\n",
       "      <th>num_medications</th>\n",
       "      <th>time_in_hospital</th>\n",
       "      <th>number_diagnoses</th>\n",
       "      <th>num_procedures</th>\n",
       "      <th>number_inpatient</th>\n",
       "      <th>number_emergency</th>\n",
       "    </tr>\n",
       "  </thead>\n",
       "  <tbody>\n",
       "    <tr>\n",
       "      <th>count</th>\n",
       "      <td>2000.0</td>\n",
       "      <td>2000.0</td>\n",
       "      <td>2000.0</td>\n",
       "      <td>2000.0</td>\n",
       "      <td>2000.0</td>\n",
       "      <td>2000.0</td>\n",
       "      <td>2000.0</td>\n",
       "    </tr>\n",
       "    <tr>\n",
       "      <th>mean</th>\n",
       "      <td>43.0985</td>\n",
       "      <td>15.764</td>\n",
       "      <td>4.357</td>\n",
       "      <td>7.3</td>\n",
       "      <td>1.477</td>\n",
       "      <td>0.159</td>\n",
       "      <td>0.0895</td>\n",
       "    </tr>\n",
       "    <tr>\n",
       "      <th>std</th>\n",
       "      <td>20.525897</td>\n",
       "      <td>8.246594</td>\n",
       "      <td>3.009166</td>\n",
       "      <td>1.903894</td>\n",
       "      <td>1.766644</td>\n",
       "      <td>0.522356</td>\n",
       "      <td>0.355743</td>\n",
       "    </tr>\n",
       "    <tr>\n",
       "      <th>min</th>\n",
       "      <td>1.0</td>\n",
       "      <td>1.0</td>\n",
       "      <td>1.0</td>\n",
       "      <td>3.0</td>\n",
       "      <td>0.0</td>\n",
       "      <td>0.0</td>\n",
       "      <td>0.0</td>\n",
       "    </tr>\n",
       "    <tr>\n",
       "      <th>25%</th>\n",
       "      <td>30.0</td>\n",
       "      <td>10.0</td>\n",
       "      <td>2.0</td>\n",
       "      <td>6.0</td>\n",
       "      <td>0.0</td>\n",
       "      <td>0.0</td>\n",
       "      <td>0.0</td>\n",
       "    </tr>\n",
       "    <tr>\n",
       "      <th>50%</th>\n",
       "      <td>44.0</td>\n",
       "      <td>14.0</td>\n",
       "      <td>4.0</td>\n",
       "      <td>8.0</td>\n",
       "      <td>1.0</td>\n",
       "      <td>0.0</td>\n",
       "      <td>0.0</td>\n",
       "    </tr>\n",
       "    <tr>\n",
       "      <th>75%</th>\n",
       "      <td>58.0</td>\n",
       "      <td>20.0</td>\n",
       "      <td>6.0</td>\n",
       "      <td>9.0</td>\n",
       "      <td>2.0</td>\n",
       "      <td>0.0</td>\n",
       "      <td>0.0</td>\n",
       "    </tr>\n",
       "    <tr>\n",
       "      <th>max</th>\n",
       "      <td>108.0</td>\n",
       "      <td>65.0</td>\n",
       "      <td>14.0</td>\n",
       "      <td>16.0</td>\n",
       "      <td>6.0</td>\n",
       "      <td>6.0</td>\n",
       "      <td>4.0</td>\n",
       "    </tr>\n",
       "  </tbody>\n",
       "</table>\n",
       "</div>"
      ],
      "text/plain": [
       "       num_lab_procedures  num_medications  time_in_hospital  \\\n",
       "count              2000.0           2000.0            2000.0   \n",
       "mean              43.0985           15.764             4.357   \n",
       "std             20.525897         8.246594          3.009166   \n",
       "min                   1.0              1.0               1.0   \n",
       "25%                  30.0             10.0               2.0   \n",
       "50%                  44.0             14.0               4.0   \n",
       "75%                  58.0             20.0               6.0   \n",
       "max                 108.0             65.0              14.0   \n",
       "\n",
       "       number_diagnoses  num_procedures  number_inpatient  number_emergency  \n",
       "count            2000.0          2000.0            2000.0            2000.0  \n",
       "mean                7.3           1.477             0.159            0.0895  \n",
       "std            1.903894        1.766644          0.522356          0.355743  \n",
       "min                 3.0             0.0               0.0               0.0  \n",
       "25%                 6.0             0.0               0.0               0.0  \n",
       "50%                 8.0             1.0               0.0               0.0  \n",
       "75%                 9.0             2.0               0.0               0.0  \n",
       "max                16.0             6.0               6.0               4.0  "
      ]
     },
     "execution_count": 25,
     "metadata": {},
     "output_type": "execute_result"
    }
   ],
   "source": [
    "df.describe()"
   ]
  },
  {
   "cell_type": "markdown",
   "metadata": {},
   "source": [
    "Se evidencia que los datos numericos estan entre rangos razonables"
   ]
  },
  {
   "cell_type": "code",
   "execution_count": null,
   "metadata": {},
   "outputs": [
    {
     "data": {
      "image/png": "[encoded data removed]",
      "text/plain": [
       "<Figure size 1200x800 with 7 Axes>"
      ]
     },
     "metadata": {},
     "output_type": "display_data"
    }
   ],
   "source": [
    "plt.figure(figsize=(12, 8))\n",
    "for i, col in enumerate(variables_num, 1):\n",
    "    plt.subplot(3, 3, i)\n",
    "    sns.boxplot(x=df[col])\n",
    "    plt.title(f'Boxplot de {col}')\n",
    "plt.tight_layout()\n",
    "plt.show()"
   ]
  },
  {
   "cell_type": "code",
   "execution_count": 33,
   "metadata": {},
   "outputs": [
    {
     "data": {
      "image/png": "[encoded data removed]",
      "text/plain": [
       "<Figure size 1000x600 with 2 Axes>"
      ]
     },
     "metadata": {},
     "output_type": "display_data"
    }
   ],
   "source": [
    "df_numeric = df.select_dtypes(include=[\"number\"])\n",
    "\n",
    "# Calcular la matriz de correlación\n",
    "correlation_matrix = df_numeric.corr()\n",
    "\n",
    "plt.figure(figsize=(10, 6))\n",
    "sns.heatmap(correlation_matrix, annot=True, cmap = \"Blues\")\n",
    "\n",
    "# Mostrar el gráfico\n",
    "plt.title(\"Correlación entre Variables\")\n",
    "plt.show()\n"
   ]
  },
  {
   "cell_type": "markdown",
   "metadata": {},
   "source": [
    "Como se evidencia en el mapa de correlacion, ninguna variable se encuentra muy correlacionada con otra, en especial, en el curso se evidencia que un buen indicativo de que una variable es necesario eliminar es cuando esta presenta una correlacion mayor a |0,8|, en este caso no se evidencia ninguna variable con esta correlacion."
   ]
  },
  {
   "cell_type": "markdown",
   "metadata": {},
   "source": [
    "Atributos categoricos"
   ]
  },
  {
   "cell_type": "code",
   "execution_count": 36,
   "metadata": {},
   "outputs": [
    {
     "name": "stdout",
     "output_type": "stream",
     "text": [
      "\n",
      "Distribución de race:\n",
      "race\n",
      "Caucasian          1475\n",
      "AfricanAmerican     379\n",
      "Other                97\n",
      "Hispanic             36\n",
      "Asian                13\n",
      "Name: count, dtype: int64\n",
      "\n",
      "Distribución de gender:\n",
      "gender\n",
      "F    1042\n",
      "M     958\n",
      "Name: count, dtype: int64\n",
      "\n",
      "Distribución de age:\n",
      "age\n",
      "8     521\n",
      "7     431\n",
      "6     353\n",
      "9     328\n",
      "5     185\n",
      "4      86\n",
      "10     52\n",
      "3      30\n",
      "2      13\n",
      "1       1\n",
      "Name: count, dtype: int64\n",
      "\n",
      "Distribución de admission_type_id:\n",
      "admission_type_id\n",
      "1    1010\n",
      "3     384\n",
      "2     361\n",
      "6     135\n",
      "5     101\n",
      "8       9\n",
      "Name: count, dtype: int64\n",
      "\n",
      "Distribución de discharge_disposition_id:\n",
      "discharge_disposition_id\n",
      "1     1260\n",
      "6      243\n",
      "3      237\n",
      "18      61\n",
      "2       38\n",
      "22      31\n",
      "11      30\n",
      "25      25\n",
      "5       23\n",
      "4       19\n",
      "7        7\n",
      "23       7\n",
      "14       6\n",
      "13       5\n",
      "8        3\n",
      "28       3\n",
      "24       2\n",
      "Name: count, dtype: int64\n",
      "\n",
      "Distribución de admission_source_id:\n",
      "admission_source_id\n",
      "7     1055\n",
      "1      629\n",
      "17     146\n",
      "4       66\n",
      "6       41\n",
      "2       31\n",
      "5       20\n",
      "3        5\n",
      "9        4\n",
      "20       3\n",
      "Name: count, dtype: int64\n",
      "\n",
      "Distribución de insulin:\n",
      "insulin\n",
      "Yes    1004\n",
      "No      996\n",
      "Name: count, dtype: int64\n",
      "\n",
      "Distribución de change:\n",
      "change\n",
      "No     1103\n",
      "Yes     897\n",
      "Name: count, dtype: int64\n",
      "\n",
      "Distribución de diabetesMed:\n",
      "diabetesMed\n",
      "Yes    1508\n",
      "No      492\n",
      "Name: count, dtype: int64\n"
     ]
    }
   ],
   "source": [
    "for col in variables_cat:\n",
    "    print(f\"\\nDistribución de {col}:\")\n",
    "    print(df[col].value_counts())"
   ]
  },
  {
   "cell_type": "markdown",
   "metadata": {},
   "source": [
    "# Analisis de calidad de datos"
   ]
  },
  {
   "cell_type": "markdown",
   "metadata": {},
   "source": [
    "## Completitud"
   ]
  },
  {
   "cell_type": "code",
   "execution_count": 37,
   "metadata": {},
   "outputs": [
    {
     "data": {
      "text/html": [
       "<div>\n",
       "<style scoped>\n",
       "    .dataframe tbody tr th:only-of-type {\n",
       "        vertical-align: middle;\n",
       "    }\n",
       "\n",
       "    .dataframe tbody tr th {\n",
       "        vertical-align: top;\n",
       "    }\n",
       "\n",
       "    .dataframe thead th {\n",
       "        text-align: right;\n",
       "    }\n",
       "</style>\n",
       "<table border=\"1\" class=\"dataframe\">\n",
       "  <thead>\n",
       "    <tr style=\"text-align: right;\">\n",
       "      <th></th>\n",
       "      <th>Atributo</th>\n",
       "      <th>Completitud (%)</th>\n",
       "      <th>Incompletitud (%)</th>\n",
       "    </tr>\n",
       "  </thead>\n",
       "  <tbody>\n",
       "    <tr>\n",
       "      <th>0</th>\n",
       "      <td>race</td>\n",
       "      <td>100.0</td>\n",
       "      <td>0.0</td>\n",
       "    </tr>\n",
       "    <tr>\n",
       "      <th>1</th>\n",
       "      <td>admission_type_id</td>\n",
       "      <td>100.0</td>\n",
       "      <td>0.0</td>\n",
       "    </tr>\n",
       "    <tr>\n",
       "      <th>2</th>\n",
       "      <td>number_emergency</td>\n",
       "      <td>100.0</td>\n",
       "      <td>0.0</td>\n",
       "    </tr>\n",
       "    <tr>\n",
       "      <th>3</th>\n",
       "      <td>number_inpatient</td>\n",
       "      <td>100.0</td>\n",
       "      <td>0.0</td>\n",
       "    </tr>\n",
       "    <tr>\n",
       "      <th>4</th>\n",
       "      <td>change</td>\n",
       "      <td>100.0</td>\n",
       "      <td>0.0</td>\n",
       "    </tr>\n",
       "    <tr>\n",
       "      <th>5</th>\n",
       "      <td>diabetesMed</td>\n",
       "      <td>100.0</td>\n",
       "      <td>0.0</td>\n",
       "    </tr>\n",
       "    <tr>\n",
       "      <th>6</th>\n",
       "      <td>insulin</td>\n",
       "      <td>100.0</td>\n",
       "      <td>0.0</td>\n",
       "    </tr>\n",
       "    <tr>\n",
       "      <th>7</th>\n",
       "      <td>discharge_disposition_id</td>\n",
       "      <td>100.0</td>\n",
       "      <td>0.0</td>\n",
       "    </tr>\n",
       "    <tr>\n",
       "      <th>8</th>\n",
       "      <td>admission_source_id</td>\n",
       "      <td>100.0</td>\n",
       "      <td>0.0</td>\n",
       "    </tr>\n",
       "    <tr>\n",
       "      <th>9</th>\n",
       "      <td>num_lab_procedures</td>\n",
       "      <td>100.0</td>\n",
       "      <td>0.0</td>\n",
       "    </tr>\n",
       "    <tr>\n",
       "      <th>10</th>\n",
       "      <td>num_procedures</td>\n",
       "      <td>100.0</td>\n",
       "      <td>0.0</td>\n",
       "    </tr>\n",
       "    <tr>\n",
       "      <th>11</th>\n",
       "      <td>number_diagnoses</td>\n",
       "      <td>100.0</td>\n",
       "      <td>0.0</td>\n",
       "    </tr>\n",
       "    <tr>\n",
       "      <th>12</th>\n",
       "      <td>time_in_hospital</td>\n",
       "      <td>100.0</td>\n",
       "      <td>0.0</td>\n",
       "    </tr>\n",
       "    <tr>\n",
       "      <th>13</th>\n",
       "      <td>gender</td>\n",
       "      <td>100.0</td>\n",
       "      <td>0.0</td>\n",
       "    </tr>\n",
       "    <tr>\n",
       "      <th>14</th>\n",
       "      <td>age</td>\n",
       "      <td>100.0</td>\n",
       "      <td>0.0</td>\n",
       "    </tr>\n",
       "    <tr>\n",
       "      <th>15</th>\n",
       "      <td>num_medications</td>\n",
       "      <td>100.0</td>\n",
       "      <td>0.0</td>\n",
       "    </tr>\n",
       "    <tr>\n",
       "      <th>16</th>\n",
       "      <td>readmitted</td>\n",
       "      <td>100.0</td>\n",
       "      <td>0.0</td>\n",
       "    </tr>\n",
       "  </tbody>\n",
       "</table>\n",
       "</div>"
      ],
      "text/plain": [
       "                    Atributo  Completitud (%)  Incompletitud (%)\n",
       "0                       race            100.0                0.0\n",
       "1          admission_type_id            100.0                0.0\n",
       "2           number_emergency            100.0                0.0\n",
       "3           number_inpatient            100.0                0.0\n",
       "4                     change            100.0                0.0\n",
       "5                diabetesMed            100.0                0.0\n",
       "6                    insulin            100.0                0.0\n",
       "7   discharge_disposition_id            100.0                0.0\n",
       "8        admission_source_id            100.0                0.0\n",
       "9         num_lab_procedures            100.0                0.0\n",
       "10            num_procedures            100.0                0.0\n",
       "11          number_diagnoses            100.0                0.0\n",
       "12          time_in_hospital            100.0                0.0\n",
       "13                    gender            100.0                0.0\n",
       "14                       age            100.0                0.0\n",
       "15           num_medications            100.0                0.0\n",
       "16                readmitted            100.0                0.0"
      ]
     },
     "execution_count": 37,
     "metadata": {},
     "output_type": "execute_result"
    }
   ],
   "source": [
    "porcentajeIncompletitudAtributo =  (100 * df.isnull().sum() / df.shape[0]).sort_values(ascending=False)\n",
    "pd.DataFrame({\n",
    "    \"Atributo\": porcentajeIncompletitudAtributo.index,\n",
    "    \"Completitud (%)\": 100 - porcentajeIncompletitudAtributo.values,\n",
    "    \"Incompletitud (%)\": porcentajeIncompletitudAtributo.values\n",
    "})"
   ]
  },
  {
   "cell_type": "markdown",
   "metadata": {},
   "source": [
    "Como se puede evidenciar no hay datos faltantes"
   ]
  },
  {
   "cell_type": "markdown",
   "metadata": {},
   "source": [
    "## Analisis de unicidad"
   ]
  },
  {
   "cell_type": "code",
   "execution_count": 39,
   "metadata": {},
   "outputs": [
    {
     "name": "stdout",
     "output_type": "stream",
     "text": [
      "Se cuenta con 25 registros duplicados (1.25%)\n"
     ]
    }
   ],
   "source": [
    "registrosDuplicados = df.duplicated()\n",
    "totalDuplicados = registrosDuplicados.sum()\n",
    "totalRegistros = df.shape[0]\n",
    "porcentajeDuplicados = 100.0 * totalDuplicados / totalRegistros\n",
    "print(f\"Se cuenta con {totalDuplicados} registros duplicados ({porcentajeDuplicados:.2f}%)\")\n"
   ]
  }
 ],
 "metadata": {
  "kernelspec": {
   "display_name": "Python 3",
   "language": "python",
   "name": "python3"
  },
  "language_info": {
   "codemirror_mode": {
    "name": "ipython",
    "version": 3
   },
   "file_extension": ".py",
   "mimetype": "text/x-python",
   "name": "python",
   "nbconvert_exporter": "python",
   "pygments_lexer": "ipython3",
   "version": "3.11.9"
  }
 },
 "nbformat": 4,
 "nbformat_minor": 2
}
